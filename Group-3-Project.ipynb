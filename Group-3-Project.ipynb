{
 "cells": [
  {
   "cell_type": "code",
   "execution_count": null,
   "metadata": {},
   "outputs": [],
   "source": [
    "import pandas as pd\n",
    "import numpy as np\n",
    "import gurobipy as gp\n",
    "from gurobipy import *"
   ]
  },
  {
   "attachments": {},
   "cell_type": "markdown",
   "metadata": {},
   "source": [
    "### Read in Source Data and Create 3 Scenarios"
   ]
  },
  {
   "cell_type": "code",
   "execution_count": null,
   "metadata": {},
   "outputs": [],
   "source": [
    "df = pd.read_csv(\"./data/TSPTW_150.txt\")"
   ]
  },
  {
   "cell_type": "code",
   "execution_count": null,
   "metadata": {},
   "outputs": [],
   "source": [
    "all_vals = []\n",
    "for i in range(df.shape[0]):\n",
    "    vals = [val for val in df.iloc[i,0].strip().split(\" \") if val != \"\"]\n",
    "    all_vals.append(vals)\n",
    "\n",
    "df_data = pd.DataFrame(all_vals, columns = [\"CUST NO.\", \"X\", \"Y\", \"DEMAND\", \"READY TIME\", \"DUE DATE\", \"SERVICE TIME\"])\n",
    "df_data = df_data.iloc[:-1,:]\n",
    "df_data[\"COORDINATES\"] = df_data.apply(lambda row: (row[\"X\"], row[\"Y\"]), axis=1)\n",
    "df_data[\"DEMAND\"] = np.random.randint(1,5,df_data.shape[0])\n",
    "df_data[\"SERVICE TIME\"] = np.random.randint(1,9,df_data.shape[0])\n",
    "df_data = df_data.drop(columns=[\"X\", \"Y\"])"
   ]
  },
  {
   "cell_type": "code",
   "execution_count": null,
   "metadata": {},
   "outputs": [],
   "source": [
    "df_small = df_data.iloc[1:].sample(n = 80, replace = False, random_state=42).copy()\n",
    "df_medium = df_data.iloc[1:].sample(n = 100, replace = False, random_state=42).copy()\n",
    "df_large = df_data.iloc[1:].sample(n = 120, replace = False, random_state=42).copy()"
   ]
  },
  {
   "cell_type": "code",
   "execution_count": null,
   "metadata": {},
   "outputs": [],
   "source": [
    "initial = pd.DataFrame([df_data.iloc[0].to_list()], columns = df_data.columns)"
   ]
  },
  {
   "cell_type": "code",
   "execution_count": null,
   "metadata": {},
   "outputs": [],
   "source": [
    "df_small = pd.concat([initial, df_small]).reset_index(drop=True)\n",
    "df_medium = pd.concat([initial, df_medium]).reset_index(drop=True)\n",
    "df_large = pd.concat([initial, df_large]).reset_index(drop=True)"
   ]
  },
  {
   "attachments": {},
   "cell_type": "markdown",
   "metadata": {},
   "source": [
    "### Create Distance and Time Matrices"
   ]
  },
  {
   "cell_type": "code",
   "execution_count": null,
   "metadata": {},
   "outputs": [],
   "source": [
    "import math\n",
    "# Compute pairwise times matrix\n",
    "\n",
    "def distance(df, col, row1, row2):\n",
    "    c1 = df.loc[row1, col]\n",
    "    c2 = df.loc[row2, col]\n",
    "    diff = (float(c1[0])-float(c2[0]), float(c1[1])-float(c2[1]))\n",
    "    return math.sqrt(diff[0]*diff[0]+diff[1]*diff[1])\n"
   ]
  },
  {
   "cell_type": "code",
   "execution_count": null,
   "metadata": {},
   "outputs": [],
   "source": [
    "small_dist = []\n",
    "for row1 in range(df_small.shape[0]):\n",
    "    row_vals = []\n",
    "    for row2 in range(df_small.shape[0]):\n",
    "        row_vals.append(distance(df_small, \"COORDINATES\", row1, row2))\n",
    "    small_dist.append(row_vals)"
   ]
  },
  {
   "cell_type": "code",
   "execution_count": null,
   "metadata": {},
   "outputs": [],
   "source": [
    "medium_dist = []\n",
    "for row1 in range(df_medium.shape[0]):\n",
    "    row_vals = []\n",
    "    for row2 in range(df_medium.shape[0]):\n",
    "        row_vals.append(distance(df_medium, \"COORDINATES\", row1, row2))\n",
    "    medium_dist.append(row_vals)"
   ]
  },
  {
   "cell_type": "code",
   "execution_count": null,
   "metadata": {},
   "outputs": [],
   "source": [
    "large_dist = []\n",
    "for row1 in range(df_large.shape[0]):\n",
    "    row_vals = []\n",
    "    for row2 in range(df_large.shape[0]):\n",
    "        row_vals.append(distance(df_large, \"COORDINATES\", row1, row2))\n",
    "    large_dist.append(row_vals)"
   ]
  },
  {
   "cell_type": "code",
   "execution_count": null,
   "metadata": {},
   "outputs": [],
   "source": [
    "dist_small = np.asarray(small_dist)\n",
    "dist_medium = np.asarray(medium_dist)\n",
    "dist_large = np.asarray(large_dist)"
   ]
  },
  {
   "attachments": {},
   "cell_type": "markdown",
   "metadata": {},
   "source": [
    "### Model Implementation - Small"
   ]
  },
  {
   "cell_type": "code",
   "execution_count": null,
   "metadata": {},
   "outputs": [],
   "source": [
    "I = len(dist_small)\n",
    "J = len(dist_small[0])\n",
    "\n",
    "# Start Times\n",
    "A = df_small[\"READY TIME\"].astype(float).to_numpy()\n",
    "\n",
    "# End Times\n",
    "B = df_small[\"DUE DATE\"].astype(float).to_numpy()\n",
    "\n",
    "# distance matrix\n",
    "D = dist_small"
   ]
  },
  {
   "cell_type": "code",
   "execution_count": null,
   "metadata": {},
   "outputs": [],
   "source": [
    "probS = gp.Model(\"TSPTW - Concerts - Small\")\n",
    "\n",
    "X = probS.addVars(I, J, vtype=GRB.BINARY, name=[f\"({i}), ({j})\" for i in range(I) for j in range(J)])\n",
    "TI = probS.addVars(I, vtype=GRB.INTEGER, name=[f\"TI_{i}\" for i in range(I)])\n",
    "TJ = probS.addVars(J, vtype=GRB.INTEGER, name=[f\"TJ_{j}\" for j in range(J)])\n",
    "\n",
    "probS.setObjective(gp.quicksum(X[i,j]*D[i][j] for i in range(I) for j in range(J)), GRB.MINIMIZE)"
   ]
  },
  {
   "cell_type": "code",
   "execution_count": null,
   "metadata": {},
   "outputs": [],
   "source": [
    "for i in range(I):\n",
    "    # Initiation of Arrival to first node\n",
    "    probS.addConstr(TI[i] - D[0][i]*X[0,i] >= 0)\n",
    "\n",
    "    # start of time window\n",
    "    probS.addConstr(TI[i] >= A[i])\n",
    "\n",
    "    # end of time window\n",
    "    probS.addConstr(TJ[i] <= B[i])\n",
    "\n",
    "    # only one per row\n",
    "    probS.addConstr(gp.quicksum(X[i,j] for j in range(J)) == 1, name = \"row\" + str(i))\n",
    "\n",
    "    # cannot go along diagonals\n",
    "    probS.addConstr(X[i,i] == 0)\n",
    "\n",
    "for j in range(J):\n",
    "    # only one per column\n",
    "    probS.addConstr(gp.quicksum(X[i,j] for i in range(I)) == 1, name = \"col\" + str(j))"
   ]
  },
  {
   "cell_type": "code",
   "execution_count": null,
   "metadata": {},
   "outputs": [],
   "source": [
    "# Sub tour Elimination\n",
    "for i in range(I):\n",
    "    for j in range(J):\n",
    "        if i == j:\n",
    "            continue\n",
    "        else:\n",
    "            probS.addConstr(TI[i] - TJ[j] + (B[i] - A[j] + D[i][j])*X[i,j] <= B[i] - A[j], name = \"row\" + str(i) + \" - col\" + str(j))"
   ]
  },
  {
   "cell_type": "code",
   "execution_count": null,
   "metadata": {},
   "outputs": [],
   "source": [
    "probS.optimize()"
   ]
  },
  {
   "cell_type": "code",
   "execution_count": null,
   "metadata": {},
   "outputs": [],
   "source": [
    "tot = 0\n",
    "for v in probS.getVars():\n",
    "    if v.x > 0:\n",
    "        print(v.varName, v.x, v.Obj)\n",
    "        tot += v.Obj"
   ]
  },
  {
   "attachments": {},
   "cell_type": "markdown",
   "metadata": {},
   "source": [
    "### Model Implementation - Medium"
   ]
  },
  {
   "cell_type": "code",
   "execution_count": null,
   "metadata": {},
   "outputs": [],
   "source": [
    "I = len(dist_medium)\n",
    "J = len(dist_medium[0])\n",
    "\n",
    "# Start Times\n",
    "A = df_medium[\"READY TIME\"].astype(float).to_numpy()\n",
    "\n",
    "# End Times\n",
    "B = df_medium[\"DUE DATE\"].astype(float).to_numpy()\n",
    "\n",
    "# distance matrix\n",
    "D = dist_medium"
   ]
  },
  {
   "cell_type": "code",
   "execution_count": null,
   "metadata": {},
   "outputs": [],
   "source": [
    "probM = gp.Model(\"TSPTW - Concerts - Medium\")\n",
    "\n",
    "X = probM.addVars(I, J, vtype=GRB.BINARY, name=[f\"({i}), ({j})\" for i in range(I) for j in range(J)])\n",
    "TI = probM.addVars(I, vtype=GRB.INTEGER, name=[f\"TI_{i}\" for i in range(I)])\n",
    "TJ = probM.addVars(J, vtype=GRB.INTEGER, name=[f\"TJ_{j}\" for j in range(J)])\n",
    "\n",
    "probM.setObjective(gp.quicksum(X[i,j]*D[i][j] for i in range(I) for j in range(J)), GRB.MINIMIZE)"
   ]
  },
  {
   "cell_type": "code",
   "execution_count": null,
   "metadata": {},
   "outputs": [],
   "source": [
    "for i in range(I):\n",
    "    # Initiation of Arrival to first node\n",
    "    probM.addConstr(TI[i] - D[0][i]*X[0,i] >= 0)\n",
    "\n",
    "    # start of time window\n",
    "    probM.addConstr(TI[i] >= A[i])\n",
    "\n",
    "    # end of time window\n",
    "    probM.addConstr(TJ[i] <= B[i])\n",
    "\n",
    "    # only one per row\n",
    "    probM.addConstr(gp.quicksum(X[i,j] for j in range(J)) == 1, name = \"row\" + str(i))\n",
    "\n",
    "    # cannot go along diagonals\n",
    "    probM.addConstr(X[i,i] == 0)\n",
    "\n",
    "for j in range(J):\n",
    "    # only one per column\n",
    "    probM.addConstr(gp.quicksum(X[i,j] for i in range(I)) == 1, name = \"col\" + str(j))"
   ]
  },
  {
   "cell_type": "code",
   "execution_count": null,
   "metadata": {},
   "outputs": [],
   "source": [
    "# Sub tour Elimination\n",
    "for i in range(I):\n",
    "    for j in range(J):\n",
    "        if i == j:\n",
    "            continue\n",
    "        else:\n",
    "            probM.addConstr(TI[i] - TJ[j] + (B[i] - A[j] + D[i][j])*X[i,j] <= B[i] - A[j], name = \"row\" + str(i) + \" - col\" + str(j))"
   ]
  },
  {
   "cell_type": "code",
   "execution_count": null,
   "metadata": {},
   "outputs": [],
   "source": [
    "probM.optimize()"
   ]
  },
  {
   "cell_type": "code",
   "execution_count": null,
   "metadata": {},
   "outputs": [],
   "source": [
    "tot = 0\n",
    "for v in probM.getVars():\n",
    "    if v.x > 0:\n",
    "        print(v.varName, v.x, v.Obj)\n",
    "        tot += v.Obj"
   ]
  },
  {
   "attachments": {},
   "cell_type": "markdown",
   "metadata": {},
   "source": [
    "### Model Implementation - Large"
   ]
  },
  {
   "cell_type": "code",
   "execution_count": null,
   "metadata": {},
   "outputs": [],
   "source": [
    "I = len(dist_large)\n",
    "J = len(dist_large[0])\n",
    "\n",
    "# Start Times\n",
    "A = df_large[\"READY TIME\"].astype(float).to_numpy()\n",
    "\n",
    "# End Times\n",
    "B = df_large[\"DUE DATE\"].astype(float).to_numpy()\n",
    "\n",
    "# distance matrix\n",
    "D = dist_large"
   ]
  },
  {
   "cell_type": "code",
   "execution_count": null,
   "metadata": {},
   "outputs": [],
   "source": [
    "probL = gp.Model(\"TSPTW - Concerts - Medium\")\n",
    "\n",
    "X = probL.addVars(I, J, vtype=GRB.BINARY, name=[f\"({i}), ({j})\" for i in range(I) for j in range(J)])\n",
    "TI = probL.addVars(I, vtype=GRB.INTEGER, name=[f\"TI_{i}\" for i in range(I)])\n",
    "TJ = probL.addVars(J, vtype=GRB.INTEGER, name=[f\"TJ_{j}\" for j in range(J)])\n",
    "\n",
    "probL.setObjective(gp.quicksum(X[i,j]*D[i][j] for i in range(I) for j in range(J)), GRB.MINIMIZE)"
   ]
  },
  {
   "cell_type": "code",
   "execution_count": null,
   "metadata": {},
   "outputs": [],
   "source": [
    "for i in range(I):\n",
    "    # Initiation of Arrival to first node\n",
    "    probL.addConstr(TI[i] - D[0][i]*X[0,i] >= 0)\n",
    "\n",
    "    # start of time window\n",
    "    probL.addConstr(TI[i] >= A[i])\n",
    "\n",
    "    # end of time window\n",
    "    probL.addConstr(TJ[i] <= B[i])\n",
    "\n",
    "    # only one per row\n",
    "    probL.addConstr(gp.quicksum(X[i,j] for j in range(J)) == 1, name = \"row\" + str(i))\n",
    "\n",
    "    # cannot go along diagonals\n",
    "    probL.addConstr(X[i,i] == 0)\n",
    "\n",
    "for j in range(J):\n",
    "    # only one per column\n",
    "    probL.addConstr(gp.quicksum(X[i,j] for i in range(I)) == 1, name = \"col\" + str(j))"
   ]
  },
  {
   "cell_type": "code",
   "execution_count": null,
   "metadata": {},
   "outputs": [],
   "source": [
    "# Sub tour Elimination\n",
    "for i in range(I):\n",
    "    for j in range(J):\n",
    "        if i == j:\n",
    "            continue\n",
    "        else:\n",
    "            probL.addConstr(TI[i] - TJ[j] + (B[i] - A[j] + D[i][j])*X[i,j] <= B[i] - A[j], name = \"row\" + str(i) + \" - col\" + str(j))"
   ]
  },
  {
   "cell_type": "code",
   "execution_count": null,
   "metadata": {},
   "outputs": [],
   "source": [
    "probL.optimize()"
   ]
  },
  {
   "cell_type": "code",
   "execution_count": null,
   "metadata": {},
   "outputs": [],
   "source": [
    "tot = 0\n",
    "for v in probL.getVars():\n",
    "    if v.x > 0:\n",
    "        print(v.varName, v.x, v.Obj)\n",
    "        tot += v.Obj"
   ]
  }
 ],
 "metadata": {
  "kernelspec": {
   "display_name": "Python 3",
   "language": "python",
   "name": "python3"
  },
  "language_info": {
   "codemirror_mode": {
    "name": "ipython",
    "version": 3
   },
   "file_extension": ".py",
   "mimetype": "text/x-python",
   "name": "python",
   "nbconvert_exporter": "python",
   "pygments_lexer": "ipython3",
   "version": "3.11.1"
  },
  "orig_nbformat": 4
 },
 "nbformat": 4,
 "nbformat_minor": 2
}
